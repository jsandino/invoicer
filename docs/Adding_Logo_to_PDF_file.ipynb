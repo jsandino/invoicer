{
  "cells": [
    {
      "cell_type": "markdown",
      "metadata": {
        "id": "view-in-github",
        "colab_type": "text"
      },
      "source": [
        "<a href=\"https://colab.research.google.com/github/jsandino/invoicer/blob/master/docs/Adding_Logo_to_PDF_file.ipynb\" target=\"_parent\"><img src=\"https://colab.research.google.com/assets/colab-badge.svg\" alt=\"Open In Colab\"/></a>"
      ]
    },
    {
      "cell_type": "markdown",
      "metadata": {
        "id": "InMFD-xWo_K3"
      },
      "source": [
        "## Prologue"
      ]
    },
    {
      "cell_type": "markdown",
      "metadata": {
        "id": "MLArcBtKo_K4"
      },
      "source": [
        "A simple example showcasing how to generate a PDF document with an embedded image."
      ]
    },
    {
      "cell_type": "markdown",
      "metadata": {
        "id": "vUj08rICo_K5"
      },
      "source": [
        "### Setup\n",
        "\n",
        "First, install *FPDF* - a library that will allow us to programmatically generate PDF documents:"
      ]
    },
    {
      "cell_type": "code",
      "execution_count": 1,
      "metadata": {
        "colab": {
          "base_uri": "https://localhost:8080/"
        },
        "id": "lDHMIwlAo_K5",
        "outputId": "a05b14e2-5f02-4939-c586-68bb084e1172"
      },
      "outputs": [
        {
          "output_type": "stream",
          "name": "stdout",
          "text": [
            "Collecting fpdf\n",
            "  Downloading fpdf-1.7.2.tar.gz (39 kB)\n",
            "  Preparing metadata (setup.py) ... \u001b[?25l\u001b[?25hdone\n",
            "Building wheels for collected packages: fpdf\n",
            "  Building wheel for fpdf (setup.py) ... \u001b[?25l\u001b[?25hdone\n",
            "  Created wheel for fpdf: filename=fpdf-1.7.2-py2.py3-none-any.whl size=40702 sha256=8e6239ab05ce717921ec4e858d01890f54682e125d1234598980b4f2dd2dcde4\n",
            "  Stored in directory: /root/.cache/pip/wheels/f9/95/ba/f418094659025eb9611f17cbcaf2334236bf39a0c3453ea455\n",
            "Successfully built fpdf\n",
            "Installing collected packages: fpdf\n",
            "Successfully installed fpdf-1.7.2\n"
          ]
        }
      ],
      "source": [
        "pip install fpdf"
      ]
    },
    {
      "cell_type": "markdown",
      "metadata": {
        "id": "CM8m7BNbo_K6"
      },
      "source": [
        "Next, import the *FPDF* base class and define a child - this is the class responsible for generating the PDF contents:"
      ]
    },
    {
      "cell_type": "code",
      "execution_count": 2,
      "metadata": {
        "id": "O3_DS4-yo_K6"
      },
      "outputs": [],
      "source": [
        "from fpdf import FPDF"
      ]
    },
    {
      "cell_type": "markdown",
      "metadata": {
        "id": "UqhC4apHo_K6"
      },
      "source": [
        "### Class definition\n",
        "\n",
        "Create a FPDF subclass, passing the logo image to the constructor.  Note also that we are overriding the *header* method, so as to include the logo at the top of every page:"
      ]
    },
    {
      "cell_type": "code",
      "execution_count": 3,
      "metadata": {
        "id": "Os70qUuEo_K6"
      },
      "outputs": [],
      "source": [
        "class MyPdfGenerator(FPDF):\n",
        "\n",
        "    def __init__(self, logo):\n",
        "        super().__init__()\n",
        "        self._logo = logo\n",
        "\n",
        "\n",
        "    def header(self):\n",
        "        if self._logo:\n",
        "            self.image(self._logo, x=6, y=10, w=15)\n",
        "\n",
        "\n",
        "    def print(self):\n",
        "        self.output(\"output-doc.pdf\")\n",
        ""
      ]
    },
    {
      "cell_type": "markdown",
      "metadata": {
        "id": "FXBU0Exro_K6"
      },
      "source": [
        "### Pdf Generation"
      ]
    },
    {
      "cell_type": "markdown",
      "metadata": {
        "id": "k4YT8qb4o_K7"
      },
      "source": [
        "Instantiate your new class with the desired logo:"
      ]
    },
    {
      "cell_type": "code",
      "execution_count": 4,
      "metadata": {
        "id": "BOI8g2v4o_K7"
      },
      "outputs": [],
      "source": [
        "smp_pdf = MyPdfGenerator(\"smp.png\")"
      ]
    },
    {
      "cell_type": "markdown",
      "metadata": {
        "id": "LFSlpHXNo_K7"
      },
      "source": [
        "Finally, generate the PDF document with the embedded image:"
      ]
    },
    {
      "cell_type": "code",
      "execution_count": 8,
      "metadata": {
        "id": "yq7Jea5Wo_K7"
      },
      "outputs": [],
      "source": [
        "smp_pdf.print()"
      ]
    },
    {
      "cell_type": "markdown",
      "metadata": {
        "id": "UT8C9epIo_K7"
      },
      "source": [
        "This should produce the PDF file **output-doc.pdf** with the supplied logo:"
      ]
    },
    {
      "cell_type": "code",
      "execution_count": 7,
      "metadata": {
        "colab": {
          "base_uri": "https://localhost:8080/",
          "height": 425
        },
        "id": "1UpjHAtso_K7",
        "outputId": "71c0834b-3d17-4f2d-abf9-f264030183be"
      },
      "outputs": [
        {
          "output_type": "display_data",
          "data": {
            "text/plain": [
              "<IPython.core.display.HTML object>"
            ],
            "text/html": [
              "<iframe src=\"output-doc.pdf\" width=\"308\" height=\"400\"></iframe>\n"
            ]
          },
          "metadata": {}
        }
      ],
      "source": [
        "%%html\n",
        "<iframe src=\"output-doc.pdf\" width=\"308\" height=\"400\"></iframe>"
      ]
    },
    {
      "cell_type": "code",
      "execution_count": null,
      "metadata": {
        "id": "oQQqBMuFo_K7"
      },
      "outputs": [],
      "source": []
    }
  ],
  "metadata": {
    "kernelspec": {
      "display_name": "Python 3",
      "language": "python",
      "name": "python3"
    },
    "language_info": {
      "codemirror_mode": {
        "name": "ipython",
        "version": 3
      },
      "file_extension": ".py",
      "mimetype": "text/x-python",
      "name": "python",
      "nbconvert_exporter": "python",
      "pygments_lexer": "ipython3",
      "version": "3.7.6"
    },
    "colab": {
      "provenance": [],
      "include_colab_link": true
    }
  },
  "nbformat": 4,
  "nbformat_minor": 0
}